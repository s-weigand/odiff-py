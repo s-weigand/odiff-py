{
 "cells": [
  {
   "cell_type": "markdown",
   "metadata": {},
   "source": [
    "# Usage\n",
    "\n",
    "Let's first prepare some images we want to compare.\n",
    "For this purpose the images from the unit test data are sufficient."
   ]
  },
  {
   "cell_type": "code",
   "execution_count": null,
   "metadata": {},
   "outputs": [],
   "source": [
    "from __future__ import annotations\n",
    "\n",
    "from pathlib import Path\n",
    "\n",
    "from PIL import Image\n",
    "\n",
    "DATA_FOLDER = Path() / \"../tests/data\"\n",
    "\n",
    "tiger_1 = Image.open(DATA_FOLDER / \"tiger-1.jpg\")\n",
    "tiger_1"
   ]
  },
  {
   "cell_type": "code",
   "execution_count": null,
   "metadata": {},
   "outputs": [],
   "source": [
    "tiger_2 = Image.open(DATA_FOLDER / \"tiger-2.jpg\")\n",
    "tiger_2"
   ]
  },
  {
   "cell_type": "markdown",
   "metadata": {},
   "source": [
    "## Basic usage\n",
    "\n",
    "Now that we have the images let's compare them using `odiff`."
   ]
  },
  {
   "cell_type": "code",
   "execution_count": null,
   "metadata": {},
   "outputs": [],
   "source": [
    "from odiff_py import odiff\n",
    "\n",
    "basic_result = odiff(tiger_1, tiger_2)\n",
    "basic_result"
   ]
  },
  {
   "cell_type": "markdown",
   "metadata": {},
   "source": [
    "## DiffResult\n",
    "\n",
    "When you use `odiff` in a jupyter notebook the result will be shown as rich markdown output, containing an overview table with the diff results as well an an animated png image (`apng`) that cycles between the base image, the compare image and the difference image.\n",
    "\n",
    "You can of course also access those values directly on the DiffResult instance."
   ]
  },
  {
   "cell_type": "code",
   "execution_count": null,
   "metadata": {},
   "outputs": [],
   "source": [
    "from rich import print\n",
    "\n",
    "print(basic_result)"
   ]
  },
  {
   "cell_type": "markdown",
   "metadata": {},
   "source": [
    "To generate an animated png image you can use the `.create_apng` method which also allows you to change the speed in which the images cycle."
   ]
  },
  {
   "cell_type": "code",
   "execution_count": null,
   "metadata": {},
   "outputs": [],
   "source": [
    "basic_result.create_apng(delay_den=200)"
   ]
  },
  {
   "cell_type": "markdown",
   "metadata": {},
   "source": [
    "## Diff Mask\n",
    "For a better visibility of the changes themselves you can use `diff_mask=True`, which will generate a diff image only consisting of the diff itself and a transparent background.\n",
    "In jupyter notebooks the transparency is by default shown as a checker board pattern know from image editing software (e.g. photoshop). \n",
    "Additionally the color of the diff can be changed by providing the color as hex value to the argument `diff_color`."
   ]
  },
  {
   "cell_type": "code",
   "execution_count": null,
   "metadata": {},
   "outputs": [],
   "source": [
    "from odiff_py import odiff\n",
    "\n",
    "diff_mask_result = odiff(tiger_1, tiger_2, diff_mask=True, diff_color=\"#E800FF\")\n",
    "diff_mask_result"
   ]
  },
  {
   "cell_type": "markdown",
   "metadata": {},
   "source": [
    "If you prefer to not see the checker board background on transparency you can deactivate it by setting `use_checker_transparency` to `False`."
   ]
  },
  {
   "cell_type": "code",
   "execution_count": null,
   "metadata": {},
   "outputs": [],
   "source": [
    "diff_mask_result.use_checker_transparency = False\n",
    "diff_mask_result"
   ]
  },
  {
   "cell_type": "markdown",
   "metadata": {},
   "source": [
    "## Ignore Areas\n",
    "\n",
    "Odiff also allows you to define ignore areas that are not considered when when diffing images.\n",
    "By default those are shown as overlay on images and the `apng` repr in notebooks."
   ]
  },
  {
   "cell_type": "code",
   "execution_count": null,
   "metadata": {},
   "outputs": [],
   "source": [
    "ignore_area_result = odiff(\n",
    "    tiger_1,\n",
    "    tiger_2,\n",
    "    diff_mask=True,\n",
    "    diff_color=\"#E800FF\",\n",
    "    ignore=[(580, 20, 890, 200)],\n",
    "    output_diff_lines=True,\n",
    ")\n",
    "ignore_area_result"
   ]
  },
  {
   "cell_type": "code",
   "execution_count": null,
   "metadata": {},
   "outputs": [],
   "source": [
    "ignore_area_result.base_image"
   ]
  },
  {
   "cell_type": "markdown",
   "metadata": {},
   "source": [
    "To deactivate the ignore area overlay you can set the `show_ignore_areas_overlay` attribute to false."
   ]
  },
  {
   "cell_type": "code",
   "execution_count": null,
   "metadata": {},
   "outputs": [],
   "source": [
    "ignore_area_result.show_ignore_areas_overlay = False\n",
    "ignore_area_result"
   ]
  },
  {
   "cell_type": "code",
   "execution_count": null,
   "metadata": {},
   "outputs": [],
   "source": [
    "ignore_area_result.base_image"
   ]
  }
 ],
 "metadata": {
  "kernelspec": {
   "display_name": "odiff-py",
   "language": "python",
   "name": "python3"
  },
  "language_info": {
   "codemirror_mode": {
    "name": "ipython",
    "version": 3
   },
   "file_extension": ".py",
   "mimetype": "text/x-python",
   "name": "python",
   "nbconvert_exporter": "python",
   "pygments_lexer": "ipython3",
   "version": "3.9.19"
  }
 },
 "nbformat": 4,
 "nbformat_minor": 2
}
